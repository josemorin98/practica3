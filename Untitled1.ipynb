{
  "nbformat": 4,
  "nbformat_minor": 0,
  "metadata": {
    "colab": {
      "name": "Untitled1.ipynb",
      "provenance": [],
      "mount_file_id": "1Y2GGZSqjyZcfOTze2WWPMwRVvqpUbRb0",
      "authorship_tag": "ABX9TyMa0t/w1QolarTcL8E00xgk",
      "include_colab_link": true
    },
    "kernelspec": {
      "name": "python3",
      "display_name": "Python 3"
    },
    "language_info": {
      "name": "python"
    }
  },
  "cells": [
    {
      "cell_type": "markdown",
      "metadata": {
        "id": "view-in-github",
        "colab_type": "text"
      },
      "source": [
        "<a href=\"https://colab.research.google.com/github/josemorin98/practica3/blob/main/Untitled1.ipynb\" target=\"_parent\"><img src=\"https://colab.research.google.com/assets/colab-badge.svg\" alt=\"Open In Colab\"/></a>"
      ]
    },
    {
      "cell_type": "code",
      "metadata": {
        "id": "LdCXk0_F2GW0"
      },
      "source": [
        "import pandas as pd\n",
        "import numpy as np"
      ],
      "execution_count": 1,
      "outputs": []
    },
    {
      "cell_type": "markdown",
      "metadata": {
        "id": "Anphw34iygIQ"
      },
      "source": [
        "# Practica 2"
      ]
    },
    {
      "cell_type": "markdown",
      "metadata": {
        "id": "Q1VM-lH9y1TU"
      },
      "source": [
        "## Lectura de Datos"
      ]
    },
    {
      "cell_type": "code",
      "metadata": {
        "id": "_vQI2L41yfj4"
      },
      "source": [
        "iris_tr_3 = pd.read_csv('/content/drive/MyDrive/Colab Notebooks/irisdata/iris_tr_3c.csv',header=None)\n",
        "iris_tt_3 = pd.read_csv('/content/drive/MyDrive/Colab Notebooks/irisdata/iris_tt_3c.csv',header=None)"
      ],
      "execution_count": 2,
      "outputs": []
    },
    {
      "cell_type": "markdown",
      "metadata": {
        "id": "_2MizN7Gy5Nn"
      },
      "source": [
        "## Algoritmo"
      ]
    },
    {
      "cell_type": "code",
      "metadata": {
        "id": "MZpWtPHxpqKf"
      },
      "source": [
        "def sumatoria(W,X):\n",
        "  exp_sum=0\n",
        "  for j in W:\n",
        "    aux = j @ (X)\n",
        "    exp_sum+=np.exp(aux)\n",
        "  return np.array(exp_sum)"
      ],
      "execution_count": 3,
      "outputs": []
    },
    {
      "cell_type": "code",
      "metadata": {
        "id": "leKaw_Lh1R-1"
      },
      "source": [
        "def softmax(X,W,Y,umbral,n,lam,kmax):\n",
        "  print('umbral=',umbral,'kmax=',kmax,'n=',n,'lamda=',lam)\n",
        "  k=0\n",
        "  while (True):\n",
        "    k=k+1\n",
        "    # obtener Y\n",
        "    exp_sum=sumatoria(W.T,X).reshape(1,-1)\n",
        "    Y_a = np.exp(W.T @ X)/exp_sum\n",
        "    # anterior\n",
        "    W_before = W\n",
        "    # Actualizar\n",
        "    Y_ = (Y_a.T-Y)\n",
        "    X_Y = X @ Y_\n",
        "    W = (W_before -n * X_Y) + (lam * W_before)\n",
        "    # print('X',X.shape,'Y',Y_hot.shape,'W',W.shape,'Y_a',Y_a.shape,'Y',Y.shape,'Y_',Y.shape)\n",
        "    norma = np.linalg.norm(W_before-W,axis=0)\n",
        "    # print((lam * W_before),'\\n')\n",
        "    if (np.all(norma) < umbral):\n",
        "      r='Por menor al umbral'\n",
        "      break\n",
        "    # if (np.isnan(norma).all()):\n",
        "    #   W = W_before\n",
        "    #   r='Por max de iteraciones'\n",
        "    #   break\n",
        "    elif (k==kmax):\n",
        "      r='Por max de iteraciones'\n",
        "      break\n",
        "  return W,k,r"
      ],
      "execution_count": 4,
      "outputs": []
    },
    {
      "cell_type": "code",
      "metadata": {
        "id": "lzaO4xhJbp3i"
      },
      "source": [
        "def hit(Y,n,c):\n",
        "  Y_ = np.ones((n,c))\n",
        "  ws = np.unique(Y)\n",
        "  print(ws)\n",
        "  for x in range(n):\n",
        "    aux = np.where(Y[x]==ws)[0]\n",
        "    Y_[x][aux]=1\n",
        "    \n",
        "  return np.array(Y_)"
      ],
      "execution_count": 5,
      "outputs": []
    },
    {
      "cell_type": "code",
      "metadata": {
        "id": "YGmTgK9CtwdL"
      },
      "source": [
        "def hot1(Y,n,c):\n",
        "  Y_ = np.zeros((n,c))\n",
        "  ws = Y.unique()\n",
        "  for x in range(n):\n",
        "    pos = np.where((Y[x]==ws))\n",
        "    Y_[x][pos]=1\n",
        "  return np.array(Y_)"
      ],
      "execution_count": 6,
      "outputs": []
    },
    {
      "cell_type": "markdown",
      "metadata": {
        "id": "dTieXGX6VMre"
      },
      "source": [
        "## Datos de entrenamiento"
      ]
    },
    {
      "cell_type": "markdown",
      "metadata": {
        "id": "Ymq-MPf7VU1e"
      },
      "source": [
        "### Y"
      ]
    },
    {
      "cell_type": "code",
      "metadata": {
        "colab": {
          "base_uri": "https://localhost:8080/"
        },
        "id": "Ww_2jMCacJdk",
        "outputId": "8e3d225b-f963-4471-f722-131841d8186b"
      },
      "source": [
        "Y_hot = hot1(iris_tr_3.iloc[:,0]-1,135,3)\n",
        "type(Y_hot)"
      ],
      "execution_count": 7,
      "outputs": [
        {
          "output_type": "execute_result",
          "data": {
            "text/plain": [
              "numpy.ndarray"
            ]
          },
          "metadata": {
            "tags": []
          },
          "execution_count": 7
        }
      ]
    },
    {
      "cell_type": "code",
      "metadata": {
        "colab": {
          "base_uri": "https://localhost:8080/"
        },
        "id": "dmohzkOZVEx1",
        "outputId": "6ddde1ba-aaa5-41e7-8e5a-410d7b03dcb3"
      },
      "source": [
        "Y_labels = (iris_tr_3.iloc[:,0].values-1).astype(int).reshape(1,-1)\n",
        "type(Y_labels)"
      ],
      "execution_count": 8,
      "outputs": [
        {
          "output_type": "execute_result",
          "data": {
            "text/plain": [
              "numpy.ndarray"
            ]
          },
          "metadata": {
            "tags": []
          },
          "execution_count": 8
        }
      ]
    },
    {
      "cell_type": "markdown",
      "metadata": {
        "id": "KF5Urx-aVWPU"
      },
      "source": [
        "### W"
      ]
    },
    {
      "cell_type": "code",
      "metadata": {
        "colab": {
          "base_uri": "https://localhost:8080/"
        },
        "id": "GbPjbwNWVP09",
        "outputId": "96f83c22-13bc-462b-965a-af9a7ba1b00e"
      },
      "source": [
        "d=4\n",
        "c=3\n",
        "W = np.zeros(((d+1),c))\n",
        "W"
      ],
      "execution_count": 9,
      "outputs": [
        {
          "output_type": "execute_result",
          "data": {
            "text/plain": [
              "array([[0., 0., 0.],\n",
              "       [0., 0., 0.],\n",
              "       [0., 0., 0.],\n",
              "       [0., 0., 0.],\n",
              "       [0., 0., 0.]])"
            ]
          },
          "metadata": {
            "tags": []
          },
          "execution_count": 9
        }
      ]
    },
    {
      "cell_type": "markdown",
      "metadata": {
        "id": "0eOiy7zKVYs1"
      },
      "source": [
        "### X"
      ]
    },
    {
      "cell_type": "code",
      "metadata": {
        "id": "u1dq_l-ny0dI"
      },
      "source": [
        "X = iris_tr_3.iloc[:,[1,2,3,4]]\n",
        "aumento = np.ones(len(X))\n",
        "X.insert(0,0,aumento.astype(int))\n",
        "X = X.values\n",
        "X = X.T"
      ],
      "execution_count": 10,
      "outputs": []
    },
    {
      "cell_type": "markdown",
      "metadata": {
        "id": "NOkzHfhFXJ_G"
      },
      "source": [
        "## Pruebas"
      ]
    },
    {
      "cell_type": "markdown",
      "metadata": {
        "id": "1_gmBr7mXOrZ"
      },
      "source": [
        "### Y"
      ]
    },
    {
      "cell_type": "code",
      "metadata": {
        "id": "Qy5vssB_XOO6"
      },
      "source": [
        "Y_tt = ((iris_tt_3.iloc[:,0].values)-1).astype(int).reshape(1,-1)"
      ],
      "execution_count": 11,
      "outputs": []
    },
    {
      "cell_type": "markdown",
      "metadata": {
        "id": "SUiKYwi-XjPZ"
      },
      "source": [
        "### X"
      ]
    },
    {
      "cell_type": "code",
      "metadata": {
        "id": "qf5Se7vI17Z0",
        "colab": {
          "base_uri": "https://localhost:8080/"
        },
        "outputId": "52431057-5ae6-4b04-d732-dfdbf9f3dbff"
      },
      "source": [
        "X_tt = (iris_tt_3.iloc[:,[1,2,3,4]])\n",
        "aumento_t = np.ones(len(X_tt))\n",
        "X_tt.insert(0,0,aumento_t)\n",
        "X_tt = X_tt.values\n",
        "X_tt = X_tt.T\n",
        "type(X_tt)"
      ],
      "execution_count": 12,
      "outputs": [
        {
          "output_type": "execute_result",
          "data": {
            "text/plain": [
              "numpy.ndarray"
            ]
          },
          "metadata": {
            "tags": []
          },
          "execution_count": 12
        }
      ]
    },
    {
      "cell_type": "code",
      "metadata": {
        "id": "UQ0b_yGsq1GC"
      },
      "source": [
        "umbral = 1 * (1 /np.power(10,3))\n",
        "kmax=100*np.power(10,3)\n",
        "n_ = 1 * (1/np.power(10,1))\n",
        "lamda_v = 1 * (1 /np.power(10,1))"
      ],
      "execution_count": 13,
      "outputs": []
    },
    {
      "cell_type": "code",
      "metadata": {
        "colab": {
          "base_uri": "https://localhost:8080/"
        },
        "id": "-qSnf6mv7jVb",
        "outputId": "c2aca1b5-24ab-4f67-e446-753161062346"
      },
      "source": [
        "X.shape,Y_hot.shape,Y_labels.shape,X_tt.shape,Y_tt.shape,W.shape"
      ],
      "execution_count": 14,
      "outputs": [
        {
          "output_type": "execute_result",
          "data": {
            "text/plain": [
              "((5, 135), (135, 3), (1, 135), (5, 15), (1, 15), (5, 3))"
            ]
          },
          "metadata": {
            "tags": []
          },
          "execution_count": 14
        }
      ]
    },
    {
      "cell_type": "code",
      "metadata": {
        "colab": {
          "base_uri": "https://localhost:8080/"
        },
        "id": "qKhFTLHuoMeY",
        "outputId": "3b9863fa-6399-418a-9ecb-530fb6dbfadc"
      },
      "source": [
        "'umbral=',umbral,'kmax=',kmax,'n=',n_,'lamda=',lamda_v"
      ],
      "execution_count": 15,
      "outputs": [
        {
          "output_type": "execute_result",
          "data": {
            "text/plain": [
              "('umbral=', 0.001, 'kmax=', 100000, 'n=', 0.1, 'lamda=', 0.1)"
            ]
          },
          "metadata": {
            "tags": []
          },
          "execution_count": 15
        }
      ]
    },
    {
      "cell_type": "code",
      "metadata": {
        "colab": {
          "base_uri": "https://localhost:8080/"
        },
        "id": "U3lZKhZz2n0B",
        "outputId": "626757a1-1d1a-4543-c6c6-679b72874fa1"
      },
      "source": [
        "print(n_)\n",
        "W_p,k,why = softmax(X=X,\n",
        "                    W=W,\n",
        "                    Y=Y_hot,\n",
        "                    umbral=umbral,\n",
        "                    n=n_,\n",
        "                    lam=lamda_v,\n",
        "                    kmax=kmax)"
      ],
      "execution_count": 16,
      "outputs": [
        {
          "output_type": "stream",
          "text": [
            "0.1\n",
            "umbral= 0.001 kmax= 100000 n= 0.1 lamda= 0.1\n"
          ],
          "name": "stdout"
        },
        {
          "output_type": "stream",
          "text": [
            "/usr/local/lib/python3.7/dist-packages/ipykernel_launcher.py:5: RuntimeWarning: overflow encountered in exp\n",
            "  \"\"\"\n",
            "/usr/local/lib/python3.7/dist-packages/ipykernel_launcher.py:8: RuntimeWarning: overflow encountered in exp\n",
            "  \n",
            "/usr/local/lib/python3.7/dist-packages/ipykernel_launcher.py:8: RuntimeWarning: invalid value encountered in true_divide\n",
            "  \n"
          ],
          "name": "stderr"
        }
      ]
    },
    {
      "cell_type": "code",
      "metadata": {
        "colab": {
          "base_uri": "https://localhost:8080/"
        },
        "id": "7_-dOXDs9Lfd",
        "outputId": "fec7384c-4558-485c-8081-3426c2894fbd"
      },
      "source": [
        "W_p,k"
      ],
      "execution_count": 17,
      "outputs": [
        {
          "output_type": "execute_result",
          "data": {
            "text/plain": [
              "(array([[nan, nan, nan],\n",
              "        [nan, nan, nan],\n",
              "        [nan, nan, nan],\n",
              "        [nan, nan, nan],\n",
              "        [nan, nan, nan]]), 100000)"
            ]
          },
          "metadata": {
            "tags": []
          },
          "execution_count": 17
        }
      ]
    },
    {
      "cell_type": "code",
      "metadata": {
        "id": "lFp7vTVk11Df"
      },
      "source": [
        "def clasificar(W,X_tt):\n",
        "  val=[]\n",
        "  x_vals=(np.array(W.T@X_tt).T)\n",
        "  for x in x_vals:\n",
        "    # prin.t(x,np.argmax(x))\n",
        "    val.append(np.argmax(x))\n",
        "  return np.array(val).reshape(1,-1).T"
      ],
      "execution_count": 18,
      "outputs": []
    },
    {
      "cell_type": "code",
      "metadata": {
        "colab": {
          "base_uri": "https://localhost:8080/"
        },
        "id": "uAfvwjd1cypb",
        "outputId": "124ef0ac-1495-4474-f975-e1ebeaab9fff"
      },
      "source": [
        "x_C = clasificar(W_p,X_tt)\n",
        "(x_C==Y_tt.T).astype(int).sum()/len(x_C)\n"
      ],
      "execution_count": 19,
      "outputs": [
        {
          "output_type": "execute_result",
          "data": {
            "text/plain": [
              "0.3333333333333333"
            ]
          },
          "metadata": {
            "tags": []
          },
          "execution_count": 19
        }
      ]
    },
    {
      "cell_type": "code",
      "metadata": {
        "colab": {
          "base_uri": "https://localhost:8080/"
        },
        "id": "Nc8-G_1nliTy",
        "outputId": "478add3e-f6b2-4ed5-927d-4409a1a4aa24"
      },
      "source": [
        "umbral = 1 * (1 /np.power(10,3))\n",
        "kmax=100*np.power(10,3)\n",
        "indexes_S = ['1×10^1','1×10^2','1×10^3','1×10^4','1×10^5','1×10^6']\n",
        "acc_vals=[]\n",
        "for val in range(1,7):\n",
        "  aux=[]\n",
        "  n_ = 1 * (1/np.power(10,val))\n",
        "  for val2 in range(1,7):\n",
        "    lamda_v = 1 * (1 /np.power(10,val2))\n",
        "    print('umbral =',umbral,' n =',n_,' Lambda =',lamda_v,' Kmax=',kmax,'\\n')\n",
        "    W_p,k,tipo = softmax(X=X,\n",
        "                        W=W,\n",
        "                        Y=Y_hot,\n",
        "                        umbral=umbral,\n",
        "                        n=n_,\n",
        "                        lam=lamda_v,\n",
        "                        kmax=kmax)\n",
        "    print('w=',W_p,'\\nTermino por =',tipo,'\\n')\n",
        "    x_C = clasificar(W_p,X_tt)\n",
        "    print('Clasificacion = ',x_C.T)\n",
        "    acc=(x_C==Y_tt.T).astype(int).sum()/len(x_C)\n",
        "    aux.append(acc)\n",
        "    print('\\nPrecision =',acc)\n",
        "    print('\\n')\n",
        "    print('-------------------------------------------------------------\\n')\n",
        "  acc_vals.append(aux)"
      ],
      "execution_count": 20,
      "outputs": [
        {
          "output_type": "stream",
          "text": [
            "umbral = 0.001  n = 0.1  Lambda = 0.1  Kmax= 100000 \n",
            "\n",
            "umbral= 0.001 kmax= 100000 n= 0.1 lamda= 0.1\n"
          ],
          "name": "stdout"
        },
        {
          "output_type": "stream",
          "text": [
            "/usr/local/lib/python3.7/dist-packages/ipykernel_launcher.py:5: RuntimeWarning: overflow encountered in exp\n",
            "  \"\"\"\n",
            "/usr/local/lib/python3.7/dist-packages/ipykernel_launcher.py:8: RuntimeWarning: overflow encountered in exp\n",
            "  \n",
            "/usr/local/lib/python3.7/dist-packages/ipykernel_launcher.py:8: RuntimeWarning: invalid value encountered in true_divide\n",
            "  \n"
          ],
          "name": "stderr"
        },
        {
          "output_type": "stream",
          "text": [
            "w= [[nan nan nan]\n",
            " [nan nan nan]\n",
            " [nan nan nan]\n",
            " [nan nan nan]\n",
            " [nan nan nan]] \n",
            "Termino por = Por max de iteraciones \n",
            "\n",
            "Clasificacion =  [[0 0 0 0 0 0 0 0 0 0 0 0 0 0 0]]\n",
            "\n",
            "Precision = 0.3333333333333333\n",
            "\n",
            "\n",
            "-------------------------------------------------------------\n",
            "\n",
            "umbral = 0.001  n = 0.1  Lambda = 0.01  Kmax= 100000 \n",
            "\n",
            "umbral= 0.001 kmax= 100000 n= 0.1 lamda= 0.01\n",
            "w= [[nan nan nan]\n",
            " [nan nan nan]\n",
            " [nan nan nan]\n",
            " [nan nan nan]\n",
            " [nan nan nan]] \n",
            "Termino por = Por max de iteraciones \n",
            "\n",
            "Clasificacion =  [[0 0 0 0 0 0 0 0 0 0 0 0 0 0 0]]\n",
            "\n",
            "Precision = 0.3333333333333333\n",
            "\n",
            "\n",
            "-------------------------------------------------------------\n",
            "\n",
            "umbral = 0.001  n = 0.1  Lambda = 0.001  Kmax= 100000 \n",
            "\n",
            "umbral= 0.001 kmax= 100000 n= 0.1 lamda= 0.001\n",
            "w= [[nan nan nan]\n",
            " [nan nan nan]\n",
            " [nan nan nan]\n",
            " [nan nan nan]\n",
            " [nan nan nan]] \n",
            "Termino por = Por max de iteraciones \n",
            "\n",
            "Clasificacion =  [[0 0 0 0 0 0 0 0 0 0 0 0 0 0 0]]\n",
            "\n",
            "Precision = 0.3333333333333333\n",
            "\n",
            "\n",
            "-------------------------------------------------------------\n",
            "\n",
            "umbral = 0.001  n = 0.1  Lambda = 0.0001  Kmax= 100000 \n",
            "\n",
            "umbral= 0.001 kmax= 100000 n= 0.1 lamda= 0.0001\n",
            "w= [[nan nan nan]\n",
            " [nan nan nan]\n",
            " [nan nan nan]\n",
            " [nan nan nan]\n",
            " [nan nan nan]] \n",
            "Termino por = Por max de iteraciones \n",
            "\n",
            "Clasificacion =  [[0 0 0 0 0 0 0 0 0 0 0 0 0 0 0]]\n",
            "\n",
            "Precision = 0.3333333333333333\n",
            "\n",
            "\n",
            "-------------------------------------------------------------\n",
            "\n",
            "umbral = 0.001  n = 0.1  Lambda = 1e-05  Kmax= 100000 \n",
            "\n",
            "umbral= 0.001 kmax= 100000 n= 0.1 lamda= 1e-05\n",
            "w= [[ 8.62384198e+01  7.86821275e+01 -1.64920547e+02]\n",
            " [-2.62903888e+01  2.64122347e+01 -1.21845806e-01]\n",
            " [ 5.38961893e+01  6.42797640e+00 -6.03241657e+01]\n",
            " [-8.43575556e+01 -5.67978090e+01  1.41155365e+02]\n",
            " [-8.48394261e+01 -6.86533630e+01  1.53492789e+02]] \n",
            "Termino por = Por max de iteraciones \n",
            "\n",
            "Clasificacion =  [[0 0 0 0 0 1 1 1 1 1 2 2 2 1 2]]\n",
            "\n",
            "Precision = 0.9333333333333333\n",
            "\n",
            "\n",
            "-------------------------------------------------------------\n",
            "\n",
            "umbral = 0.001  n = 0.1  Lambda = 1e-06  Kmax= 100000 \n",
            "\n",
            "umbral= 0.001 kmax= 100000 n= 0.1 lamda= 1e-06\n",
            "w= [[ 48.88241325  42.73458927 -91.61700252]\n",
            " [-13.8047227   14.0667054   -0.2619827 ]\n",
            " [ 29.5153872    5.87335102 -35.38873822]\n",
            " [-49.15917501 -29.66966218  78.82883719]\n",
            " [-49.61893014 -38.17801335  87.79694349]] \n",
            "Termino por = Por max de iteraciones \n",
            "\n",
            "Clasificacion =  [[0 0 0 0 0 1 1 1 1 1 2 2 2 1 2]]\n",
            "\n",
            "Precision = 0.9333333333333333\n",
            "\n",
            "\n",
            "-------------------------------------------------------------\n",
            "\n",
            "umbral = 0.001  n = 0.01  Lambda = 0.1  Kmax= 100000 \n",
            "\n",
            "umbral= 0.001 kmax= 100000 n= 0.01 lamda= 0.1\n",
            "w= [[nan nan nan]\n",
            " [nan nan nan]\n",
            " [nan nan nan]\n",
            " [nan nan nan]\n",
            " [nan nan nan]] \n",
            "Termino por = Por max de iteraciones \n",
            "\n",
            "Clasificacion =  [[0 0 0 0 0 0 0 0 0 0 0 0 0 0 0]]\n",
            "\n",
            "Precision = 0.3333333333333333\n",
            "\n",
            "\n",
            "-------------------------------------------------------------\n",
            "\n",
            "umbral = 0.001  n = 0.01  Lambda = 0.01  Kmax= 100000 \n",
            "\n",
            "umbral= 0.001 kmax= 100000 n= 0.01 lamda= 0.01\n",
            "w= [[nan nan nan]\n",
            " [nan nan nan]\n",
            " [nan nan nan]\n",
            " [nan nan nan]\n",
            " [nan nan nan]] \n",
            "Termino por = Por max de iteraciones \n",
            "\n",
            "Clasificacion =  [[0 0 0 0 0 0 0 0 0 0 0 0 0 0 0]]\n",
            "\n",
            "Precision = 0.3333333333333333\n",
            "\n",
            "\n",
            "-------------------------------------------------------------\n",
            "\n",
            "umbral = 0.001  n = 0.01  Lambda = 0.001  Kmax= 100000 \n",
            "\n",
            "umbral= 0.001 kmax= 100000 n= 0.01 lamda= 0.001\n",
            "w= [[nan nan nan]\n",
            " [nan nan nan]\n",
            " [nan nan nan]\n",
            " [nan nan nan]\n",
            " [nan nan nan]] \n",
            "Termino por = Por max de iteraciones \n",
            "\n",
            "Clasificacion =  [[0 0 0 0 0 0 0 0 0 0 0 0 0 0 0]]\n",
            "\n",
            "Precision = 0.3333333333333333\n",
            "\n",
            "\n",
            "-------------------------------------------------------------\n",
            "\n",
            "umbral = 0.001  n = 0.01  Lambda = 0.0001  Kmax= 100000 \n",
            "\n",
            "umbral= 0.001 kmax= 100000 n= 0.01 lamda= 0.0001\n",
            "w= [[nan nan nan]\n",
            " [nan nan nan]\n",
            " [nan nan nan]\n",
            " [nan nan nan]\n",
            " [nan nan nan]] \n",
            "Termino por = Por max de iteraciones \n",
            "\n",
            "Clasificacion =  [[0 0 0 0 0 0 0 0 0 0 0 0 0 0 0]]\n",
            "\n",
            "Precision = 0.3333333333333333\n",
            "\n",
            "\n",
            "-------------------------------------------------------------\n",
            "\n",
            "umbral = 0.001  n = 0.01  Lambda = 1e-05  Kmax= 100000 \n",
            "\n",
            "umbral= 0.001 kmax= 100000 n= 0.01 lamda= 1e-05\n",
            "w= [[ 41.39754027  34.89835388 -76.29589415]\n",
            " [-15.74177883  13.5736483    2.16813053]\n",
            " [ 34.2632729    1.26120162 -35.52447451]\n",
            " [-46.55345343 -21.31393842  67.86739184]\n",
            " [-46.6117395  -29.78952743  76.40126693]] \n",
            "Termino por = Por max de iteraciones \n",
            "\n",
            "Clasificacion =  [[0 0 0 0 0 1 1 1 1 1 2 2 2 1 2]]\n",
            "\n",
            "Precision = 0.9333333333333333\n",
            "\n",
            "\n",
            "-------------------------------------------------------------\n",
            "\n",
            "umbral = 0.001  n = 0.01  Lambda = 1e-06  Kmax= 100000 \n",
            "\n",
            "umbral= 0.001 kmax= 100000 n= 0.01 lamda= 1e-06\n",
            "w= [[ 23.26326726  18.60301691 -41.86628416]\n",
            " [ -8.37275113   7.78125051   0.59150062]\n",
            " [ 18.52468629   1.78109865 -20.30578494]\n",
            " [-26.68916244 -11.66509759  38.35426003]\n",
            " [-26.7450415  -15.9030475   42.648089  ]] \n",
            "Termino por = Por max de iteraciones \n",
            "\n",
            "Clasificacion =  [[0 0 0 0 0 1 1 1 1 1 2 2 2 1 2]]\n",
            "\n",
            "Precision = 0.9333333333333333\n",
            "\n",
            "\n",
            "-------------------------------------------------------------\n",
            "\n",
            "umbral = 0.001  n = 0.001  Lambda = 0.1  Kmax= 100000 \n",
            "\n",
            "umbral= 0.001 kmax= 100000 n= 0.001 lamda= 0.1\n",
            "w= [[nan nan nan]\n",
            " [nan nan nan]\n",
            " [nan nan nan]\n",
            " [nan nan nan]\n",
            " [nan nan nan]] \n",
            "Termino por = Por max de iteraciones \n",
            "\n",
            "Clasificacion =  [[0 0 0 0 0 0 0 0 0 0 0 0 0 0 0]]\n",
            "\n",
            "Precision = 0.3333333333333333\n",
            "\n",
            "\n",
            "-------------------------------------------------------------\n",
            "\n",
            "umbral = 0.001  n = 0.001  Lambda = 0.01  Kmax= 100000 \n",
            "\n",
            "umbral= 0.001 kmax= 100000 n= 0.001 lamda= 0.01\n",
            "w= [[nan nan nan]\n",
            " [nan nan nan]\n",
            " [nan nan nan]\n",
            " [nan nan nan]\n",
            " [nan nan nan]] \n",
            "Termino por = Por max de iteraciones \n",
            "\n",
            "Clasificacion =  [[0 0 0 0 0 0 0 0 0 0 0 0 0 0 0]]\n",
            "\n",
            "Precision = 0.3333333333333333\n",
            "\n",
            "\n",
            "-------------------------------------------------------------\n",
            "\n",
            "umbral = 0.001  n = 0.001  Lambda = 0.001  Kmax= 100000 \n",
            "\n",
            "umbral= 0.001 kmax= 100000 n= 0.001 lamda= 0.001\n",
            "w= [[nan nan nan]\n",
            " [nan nan nan]\n",
            " [nan nan nan]\n",
            " [nan nan nan]\n",
            " [nan nan nan]] \n",
            "Termino por = Por max de iteraciones \n",
            "\n",
            "Clasificacion =  [[0 0 0 0 0 0 0 0 0 0 0 0 0 0 0]]\n",
            "\n",
            "Precision = 0.3333333333333333\n",
            "\n",
            "\n",
            "-------------------------------------------------------------\n",
            "\n",
            "umbral = 0.001  n = 0.001  Lambda = 0.0001  Kmax= 100000 \n",
            "\n",
            "umbral= 0.001 kmax= 100000 n= 0.001 lamda= 0.0001\n",
            "w= [[nan nan nan]\n",
            " [nan nan nan]\n",
            " [nan nan nan]\n",
            " [nan nan nan]\n",
            " [nan nan nan]] \n",
            "Termino por = Por max de iteraciones \n",
            "\n",
            "Clasificacion =  [[0 0 0 0 0 0 0 0 0 0 0 0 0 0 0]]\n",
            "\n",
            "Precision = 0.3333333333333333\n",
            "\n",
            "\n",
            "-------------------------------------------------------------\n",
            "\n",
            "umbral = 0.001  n = 0.001  Lambda = 1e-05  Kmax= 100000 \n",
            "\n",
            "umbral= 0.001 kmax= 100000 n= 0.001 lamda= 1e-05\n",
            "w= [[ 20.40643067  15.1705263  -35.57695696]\n",
            " [ -9.96634587   7.74678783   2.21955804]\n",
            " [ 21.25229621  -0.29896518 -20.95333104]\n",
            " [-26.45415323  -7.12538897  33.5795422 ]\n",
            " [-26.61227938 -12.38651524  38.99879462]] \n",
            "Termino por = Por max de iteraciones \n",
            "\n",
            "Clasificacion =  [[0 0 0 0 0 1 1 1 1 1 2 2 2 1 2]]\n",
            "\n",
            "Precision = 0.9333333333333333\n",
            "\n",
            "\n",
            "-------------------------------------------------------------\n",
            "\n",
            "umbral = 0.001  n = 0.001  Lambda = 1e-06  Kmax= 100000 \n",
            "\n",
            "umbral= 0.001 kmax= 100000 n= 0.001 lamda= 1e-06\n",
            "w= [[ 11.65147874   8.38682978 -20.03830852]\n",
            " [ -5.43396643   4.54073462   0.89323181]\n",
            " [ 11.93524518  -0.23478928 -11.7004559 ]\n",
            " [-15.29480627  -4.11202371  19.40682997]\n",
            " [-15.38863035  -6.75549051  22.14412086]] \n",
            "Termino por = Por max de iteraciones \n",
            "\n",
            "Clasificacion =  [[0 0 0 0 0 1 1 1 1 1 2 2 2 1 2]]\n",
            "\n",
            "Precision = 0.9333333333333333\n",
            "\n",
            "\n",
            "-------------------------------------------------------------\n",
            "\n",
            "umbral = 0.001  n = 0.0001  Lambda = 0.1  Kmax= 100000 \n",
            "\n",
            "umbral= 0.001 kmax= 100000 n= 0.0001 lamda= 0.1\n",
            "w= [[nan nan nan]\n",
            " [nan nan nan]\n",
            " [nan nan nan]\n",
            " [nan nan nan]\n",
            " [nan nan nan]] \n",
            "Termino por = Por max de iteraciones \n",
            "\n",
            "Clasificacion =  [[0 0 0 0 0 0 0 0 0 0 0 0 0 0 0]]\n",
            "\n",
            "Precision = 0.3333333333333333\n",
            "\n",
            "\n",
            "-------------------------------------------------------------\n",
            "\n",
            "umbral = 0.001  n = 0.0001  Lambda = 0.01  Kmax= 100000 \n",
            "\n",
            "umbral= 0.001 kmax= 100000 n= 0.0001 lamda= 0.01\n",
            "w= [[nan nan nan]\n",
            " [nan nan nan]\n",
            " [nan nan nan]\n",
            " [nan nan nan]\n",
            " [nan nan nan]] \n",
            "Termino por = Por max de iteraciones \n",
            "\n",
            "Clasificacion =  [[0 0 0 0 0 0 0 0 0 0 0 0 0 0 0]]\n",
            "\n",
            "Precision = 0.3333333333333333\n",
            "\n",
            "\n",
            "-------------------------------------------------------------\n",
            "\n",
            "umbral = 0.001  n = 0.0001  Lambda = 0.001  Kmax= 100000 \n",
            "\n",
            "umbral= 0.001 kmax= 100000 n= 0.0001 lamda= 0.001\n",
            "w= [[nan nan nan]\n",
            " [nan nan nan]\n",
            " [nan nan nan]\n",
            " [nan nan nan]\n",
            " [nan nan nan]] \n",
            "Termino por = Por max de iteraciones \n",
            "\n",
            "Clasificacion =  [[0 0 0 0 0 0 0 0 0 0 0 0 0 0 0]]\n",
            "\n",
            "Precision = 0.3333333333333333\n",
            "\n",
            "\n",
            "-------------------------------------------------------------\n",
            "\n",
            "umbral = 0.001  n = 0.0001  Lambda = 0.0001  Kmax= 100000 \n",
            "\n",
            "umbral= 0.001 kmax= 100000 n= 0.0001 lamda= 0.0001\n",
            "w= [[nan nan nan]\n",
            " [nan nan nan]\n",
            " [nan nan nan]\n",
            " [nan nan nan]\n",
            " [nan nan nan]] \n",
            "Termino por = Por max de iteraciones \n",
            "\n",
            "Clasificacion =  [[0 0 0 0 0 0 0 0 0 0 0 0 0 0 0]]\n",
            "\n",
            "Precision = 0.3333333333333333\n",
            "\n",
            "\n",
            "-------------------------------------------------------------\n",
            "\n",
            "umbral = 0.001  n = 0.0001  Lambda = 1e-05  Kmax= 100000 \n",
            "\n",
            "umbral= 0.001 kmax= 100000 n= 0.0001 lamda= 1e-05\n",
            "w= [[  9.16408372   6.13795186 -15.30203559]\n",
            " [ -5.58968822   3.42317042   2.1665178 ]\n",
            " [ 10.82255985  -1.96875464  -8.85380521]\n",
            " [-13.21841389   0.08751747  13.13089642]\n",
            " [-13.30062541  -5.69932608  18.99995149]] \n",
            "Termino por = Por max de iteraciones \n",
            "\n",
            "Clasificacion =  [[0 0 0 0 0 1 1 1 1 1 2 2 2 1 2]]\n",
            "\n",
            "Precision = 0.9333333333333333\n",
            "\n",
            "\n",
            "-------------------------------------------------------------\n",
            "\n",
            "umbral = 0.001  n = 0.0001  Lambda = 1e-06  Kmax= 100000 \n",
            "\n",
            "umbral= 0.001 kmax= 100000 n= 0.0001 lamda= 1e-06\n",
            "w= [[ 5.50844725  3.71730441 -9.22575166]\n",
            " [-3.26894114  1.99912529  1.26981585]\n",
            " [ 6.5076726  -1.39629443 -5.11137817]\n",
            " [-7.99784338  0.15033295  7.84751043]\n",
            " [-8.03335275 -3.42829723 11.46164997]] \n",
            "Termino por = Por max de iteraciones \n",
            "\n",
            "Clasificacion =  [[0 0 0 0 0 1 1 1 1 1 2 2 2 1 2]]\n",
            "\n",
            "Precision = 0.9333333333333333\n",
            "\n",
            "\n",
            "-------------------------------------------------------------\n",
            "\n",
            "umbral = 0.001  n = 1e-05  Lambda = 0.1  Kmax= 100000 \n",
            "\n",
            "umbral= 0.001 kmax= 100000 n= 1e-05 lamda= 0.1\n",
            "w= [[nan nan nan]\n",
            " [nan nan nan]\n",
            " [nan nan nan]\n",
            " [nan nan nan]\n",
            " [nan nan nan]] \n",
            "Termino por = Por max de iteraciones \n",
            "\n",
            "Clasificacion =  [[0 0 0 0 0 0 0 0 0 0 0 0 0 0 0]]\n",
            "\n",
            "Precision = 0.3333333333333333\n",
            "\n",
            "\n",
            "-------------------------------------------------------------\n",
            "\n",
            "umbral = 0.001  n = 1e-05  Lambda = 0.01  Kmax= 100000 \n",
            "\n",
            "umbral= 0.001 kmax= 100000 n= 1e-05 lamda= 0.01\n",
            "w= [[nan nan nan]\n",
            " [nan nan nan]\n",
            " [nan nan nan]\n",
            " [nan nan nan]\n",
            " [nan nan nan]] \n",
            "Termino por = Por max de iteraciones \n",
            "\n",
            "Clasificacion =  [[0 0 0 0 0 0 0 0 0 0 0 0 0 0 0]]\n",
            "\n",
            "Precision = 0.3333333333333333\n",
            "\n",
            "\n",
            "-------------------------------------------------------------\n",
            "\n",
            "umbral = 0.001  n = 1e-05  Lambda = 0.001  Kmax= 100000 \n",
            "\n",
            "umbral= 0.001 kmax= 100000 n= 1e-05 lamda= 0.001\n",
            "w= [[nan nan nan]\n",
            " [nan nan nan]\n",
            " [nan nan nan]\n",
            " [nan nan nan]\n",
            " [nan nan nan]] \n",
            "Termino por = Por max de iteraciones \n",
            "\n",
            "Clasificacion =  [[0 0 0 0 0 0 0 0 0 0 0 0 0 0 0]]\n",
            "\n",
            "Precision = 0.3333333333333333\n",
            "\n",
            "\n",
            "-------------------------------------------------------------\n",
            "\n",
            "umbral = 0.001  n = 1e-05  Lambda = 0.0001  Kmax= 100000 \n",
            "\n",
            "umbral= 0.001 kmax= 100000 n= 1e-05 lamda= 0.0001\n",
            "w= [[nan nan nan]\n",
            " [nan nan nan]\n",
            " [nan nan nan]\n",
            " [nan nan nan]\n",
            " [nan nan nan]] \n",
            "Termino por = Por max de iteraciones \n",
            "\n",
            "Clasificacion =  [[0 0 0 0 0 0 0 0 0 0 0 0 0 0 0]]\n",
            "\n",
            "Precision = 0.3333333333333333\n",
            "\n",
            "\n",
            "-------------------------------------------------------------\n",
            "\n",
            "umbral = 0.001  n = 1e-05  Lambda = 1e-05  Kmax= 100000 \n",
            "\n",
            "umbral= 0.001 kmax= 100000 n= 1e-05 lamda= 1e-05\n",
            "w= [[ 3.3010883   1.92004691 -5.22113521]\n",
            " [-2.56290287  0.6400328   1.92287007]\n",
            " [ 4.47808198 -2.57554809 -1.90253389]\n",
            " [-5.58391806  1.41129512  4.17262294]\n",
            " [-5.66970968 -0.58703203  6.25674171]] \n",
            "Termino por = Por max de iteraciones \n",
            "\n",
            "Clasificacion =  [[0 0 0 0 0 1 1 1 1 1 2 2 2 1 2]]\n",
            "\n",
            "Precision = 0.9333333333333333\n",
            "\n",
            "\n",
            "-------------------------------------------------------------\n",
            "\n",
            "umbral = 0.001  n = 1e-05  Lambda = 1e-06  Kmax= 100000 \n",
            "\n",
            "umbral= 0.001 kmax= 100000 n= 1e-05 lamda= 1e-06\n",
            "w= [[ 2.0042798   1.15444641 -3.15872621]\n",
            " [-1.55071922  0.35979064  1.19092858]\n",
            " [ 2.75438216 -1.75115109 -1.00323107]\n",
            " [-3.42012795  0.93667878  2.48344917]\n",
            " [-3.45718191 -0.34244652  3.79962843]] \n",
            "Termino por = Por max de iteraciones \n",
            "\n",
            "Clasificacion =  [[0 0 0 0 0 1 1 1 1 1 2 2 2 1 2]]\n",
            "\n",
            "Precision = 0.9333333333333333\n",
            "\n",
            "\n",
            "-------------------------------------------------------------\n",
            "\n",
            "umbral = 0.001  n = 1e-06  Lambda = 0.1  Kmax= 100000 \n",
            "\n",
            "umbral= 0.001 kmax= 100000 n= 1e-06 lamda= 0.1\n",
            "w= [[nan nan nan]\n",
            " [nan nan nan]\n",
            " [nan nan nan]\n",
            " [nan nan nan]\n",
            " [nan nan nan]] \n",
            "Termino por = Por max de iteraciones \n",
            "\n",
            "Clasificacion =  [[0 0 0 0 0 0 0 0 0 0 0 0 0 0 0]]\n",
            "\n",
            "Precision = 0.3333333333333333\n",
            "\n",
            "\n",
            "-------------------------------------------------------------\n",
            "\n",
            "umbral = 0.001  n = 1e-06  Lambda = 0.01  Kmax= 100000 \n",
            "\n",
            "umbral= 0.001 kmax= 100000 n= 1e-06 lamda= 0.01\n",
            "w= [[nan nan nan]\n",
            " [nan nan nan]\n",
            " [nan nan nan]\n",
            " [nan nan nan]\n",
            " [nan nan nan]] \n",
            "Termino por = Por max de iteraciones \n",
            "\n",
            "Clasificacion =  [[0 0 0 0 0 0 0 0 0 0 0 0 0 0 0]]\n",
            "\n",
            "Precision = 0.3333333333333333\n",
            "\n",
            "\n",
            "-------------------------------------------------------------\n",
            "\n",
            "umbral = 0.001  n = 1e-06  Lambda = 0.001  Kmax= 100000 \n",
            "\n",
            "umbral= 0.001 kmax= 100000 n= 1e-06 lamda= 0.001\n",
            "w= [[nan nan nan]\n",
            " [nan nan nan]\n",
            " [nan nan nan]\n",
            " [nan nan nan]\n",
            " [nan nan nan]] \n",
            "Termino por = Por max de iteraciones \n",
            "\n",
            "Clasificacion =  [[0 0 0 0 0 0 0 0 0 0 0 0 0 0 0]]\n",
            "\n",
            "Precision = 0.3333333333333333\n",
            "\n",
            "\n",
            "-------------------------------------------------------------\n",
            "\n",
            "umbral = 0.001  n = 1e-06  Lambda = 0.0001  Kmax= 100000 \n",
            "\n",
            "umbral= 0.001 kmax= 100000 n= 1e-06 lamda= 0.0001\n",
            "w= [[nan nan nan]\n",
            " [nan nan nan]\n",
            " [nan nan nan]\n",
            " [nan nan nan]\n",
            " [nan nan nan]] \n",
            "Termino por = Por max de iteraciones \n",
            "\n",
            "Clasificacion =  [[0 0 0 0 0 0 0 0 0 0 0 0 0 0 0]]\n",
            "\n",
            "Precision = 0.3333333333333333\n",
            "\n",
            "\n",
            "-------------------------------------------------------------\n",
            "\n",
            "umbral = 0.001  n = 1e-06  Lambda = 1e-05  Kmax= 100000 \n",
            "\n",
            "umbral= 0.001 kmax= 100000 n= 1e-06 lamda= 1e-05\n",
            "w= [[ 0.92591654  0.11873918 -1.04465571]\n",
            " [-0.78626372  0.15975982  0.6265039 ]\n",
            " [ 1.2424126  -0.72254788 -0.51986472]\n",
            " [-1.60813166  0.52731528  1.08081638]\n",
            " [-1.65847738  0.26428397  1.39419341]] \n",
            "Termino por = Por max de iteraciones \n",
            "\n",
            "Clasificacion =  [[0 0 0 0 0 2 2 2 2 1 2 2 2 2 2]]\n",
            "\n",
            "Precision = 0.7333333333333333\n",
            "\n",
            "\n",
            "-------------------------------------------------------------\n",
            "\n",
            "umbral = 0.001  n = 1e-06  Lambda = 1e-06  Kmax= 100000 \n",
            "\n",
            "umbral= 0.001 kmax= 100000 n= 1e-06 lamda= 1e-06\n",
            "w= [[ 0.57885922  0.05051195 -0.62937117]\n",
            " [-0.50069764  0.09355509  0.40714254]\n",
            " [ 0.78339472 -0.46274065 -0.32065407]\n",
            " [-1.0211231   0.32588852  0.69523458]\n",
            " [-1.05307757  0.16420108  0.88887649]] \n",
            "Termino por = Por max de iteraciones \n",
            "\n",
            "Clasificacion =  [[0 0 0 0 0 2 2 2 2 1 2 2 2 2 2]]\n",
            "\n",
            "Precision = 0.7333333333333333\n",
            "\n",
            "\n",
            "-------------------------------------------------------------\n",
            "\n"
          ],
          "name": "stdout"
        }
      ]
    },
    {
      "cell_type": "code",
      "metadata": {
        "colab": {
          "base_uri": "https://localhost:8080/",
          "height": 238
        },
        "id": "bAoEQ6Lc_l3s",
        "outputId": "69777e15-cfe2-4199-eaf0-4364a45324a8"
      },
      "source": [
        "ac_data = pd.DataFrame(data=acc_vals,index=indexes_S,columns=indexes_S)\n",
        "ac_data"
      ],
      "execution_count": 21,
      "outputs": [
        {
          "output_type": "execute_result",
          "data": {
            "text/html": [
              "<div>\n",
              "<style scoped>\n",
              "    .dataframe tbody tr th:only-of-type {\n",
              "        vertical-align: middle;\n",
              "    }\n",
              "\n",
              "    .dataframe tbody tr th {\n",
              "        vertical-align: top;\n",
              "    }\n",
              "\n",
              "    .dataframe thead th {\n",
              "        text-align: right;\n",
              "    }\n",
              "</style>\n",
              "<table border=\"1\" class=\"dataframe\">\n",
              "  <thead>\n",
              "    <tr style=\"text-align: right;\">\n",
              "      <th></th>\n",
              "      <th>1×10^1</th>\n",
              "      <th>1×10^2</th>\n",
              "      <th>1×10^3</th>\n",
              "      <th>1×10^4</th>\n",
              "      <th>1×10^5</th>\n",
              "      <th>1×10^6</th>\n",
              "    </tr>\n",
              "  </thead>\n",
              "  <tbody>\n",
              "    <tr>\n",
              "      <th>1×10^1</th>\n",
              "      <td>0.333333</td>\n",
              "      <td>0.333333</td>\n",
              "      <td>0.333333</td>\n",
              "      <td>0.333333</td>\n",
              "      <td>0.933333</td>\n",
              "      <td>0.933333</td>\n",
              "    </tr>\n",
              "    <tr>\n",
              "      <th>1×10^2</th>\n",
              "      <td>0.333333</td>\n",
              "      <td>0.333333</td>\n",
              "      <td>0.333333</td>\n",
              "      <td>0.333333</td>\n",
              "      <td>0.933333</td>\n",
              "      <td>0.933333</td>\n",
              "    </tr>\n",
              "    <tr>\n",
              "      <th>1×10^3</th>\n",
              "      <td>0.333333</td>\n",
              "      <td>0.333333</td>\n",
              "      <td>0.333333</td>\n",
              "      <td>0.333333</td>\n",
              "      <td>0.933333</td>\n",
              "      <td>0.933333</td>\n",
              "    </tr>\n",
              "    <tr>\n",
              "      <th>1×10^4</th>\n",
              "      <td>0.333333</td>\n",
              "      <td>0.333333</td>\n",
              "      <td>0.333333</td>\n",
              "      <td>0.333333</td>\n",
              "      <td>0.933333</td>\n",
              "      <td>0.933333</td>\n",
              "    </tr>\n",
              "    <tr>\n",
              "      <th>1×10^5</th>\n",
              "      <td>0.333333</td>\n",
              "      <td>0.333333</td>\n",
              "      <td>0.333333</td>\n",
              "      <td>0.333333</td>\n",
              "      <td>0.933333</td>\n",
              "      <td>0.933333</td>\n",
              "    </tr>\n",
              "    <tr>\n",
              "      <th>1×10^6</th>\n",
              "      <td>0.333333</td>\n",
              "      <td>0.333333</td>\n",
              "      <td>0.333333</td>\n",
              "      <td>0.333333</td>\n",
              "      <td>0.733333</td>\n",
              "      <td>0.733333</td>\n",
              "    </tr>\n",
              "  </tbody>\n",
              "</table>\n",
              "</div>"
            ],
            "text/plain": [
              "          1×10^1    1×10^2    1×10^3    1×10^4    1×10^5    1×10^6\n",
              "1×10^1  0.333333  0.333333  0.333333  0.333333  0.933333  0.933333\n",
              "1×10^2  0.333333  0.333333  0.333333  0.333333  0.933333  0.933333\n",
              "1×10^3  0.333333  0.333333  0.333333  0.333333  0.933333  0.933333\n",
              "1×10^4  0.333333  0.333333  0.333333  0.333333  0.933333  0.933333\n",
              "1×10^5  0.333333  0.333333  0.333333  0.333333  0.933333  0.933333\n",
              "1×10^6  0.333333  0.333333  0.333333  0.333333  0.733333  0.733333"
            ]
          },
          "metadata": {
            "tags": []
          },
          "execution_count": 21
        }
      ]
    },
    {
      "cell_type": "code",
      "metadata": {
        "id": "cq6XPgvs38RC"
      },
      "source": [
        "y_lables = clasificar(W_p,X_tt)"
      ],
      "execution_count": 22,
      "outputs": []
    },
    {
      "cell_type": "code",
      "metadata": {
        "id": "b4bGAUue5TqK",
        "colab": {
          "base_uri": "https://localhost:8080/"
        },
        "outputId": "77d25b89-1986-4cc6-eee5-4a5dfc82fccf"
      },
      "source": [
        "(y_lables==Y_tt).astype(int).sum()/len(Y_tt)"
      ],
      "execution_count": 23,
      "outputs": [
        {
          "output_type": "execute_result",
          "data": {
            "text/plain": [
              "75.0"
            ]
          },
          "metadata": {
            "tags": []
          },
          "execution_count": 23
        }
      ]
    }
  ]
}